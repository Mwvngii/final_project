{
 "cells": [
  {
   "cell_type": "code",
   "execution_count": 13,
   "metadata": {},
   "outputs": [],
   "source": [
    "import pandas as pd\n",
    "import numpy as np\n",
    "import os\n",
    "\n",
    "\n"
   ]
  },
  {
   "cell_type": "code",
   "execution_count": 14,
   "metadata": {},
   "outputs": [],
   "source": [
    "import pandas as pd\n",
    "\n",
    "# Use the absolute path to the file\n",
    "file_path = r'C:\\Users\\GICHEHA\\Documents\\Flatiron\\dsc-data-science-env-config\\phase_5.0\\Data\\reddit.csv'\n",
    "\n",
    "\n"
   ]
  },
  {
   "cell_type": "code",
   "execution_count": 25,
   "metadata": {},
   "outputs": [
    {
     "name": "stdout",
     "output_type": "stream",
     "text": [
      "   subreddit                                              title  \\\n",
      "0  teenagers                           I'm not like most girls.   \n",
      "1  teenagers  Hey guys does anyone have Disney+ that I could...   \n",
      "2  teenagers                              I did the right thing   \n",
      "3  teenagers       Oops, my bad. Posting this to the wrong sub.   \n",
      "4  teenagers               Being nice until somebody notices p1   \n",
      "\n",
      "                                                body  upvotes   created_utc  \\\n",
      "0                                         I'm a guy.      8.0  1.570670e+09   \n",
      "1  I’m broke and I wanna watch Disney movies so l...      4.0  1.574763e+09   \n",
      "2  Me and my friend were playing terraria. I didn...      4.0  1.607291e+09   \n",
      "3                        Ignore this post. Carry on.      5.0  1.585184e+09   \n",
      "4  I just want to be nice, or help, or do anythin...      7.0  1.598739e+09   \n",
      "\n",
      "   num_comments  label  \n",
      "0          11.0    0.0  \n",
      "1           7.0    0.0  \n",
      "2           7.0    0.0  \n",
      "3           7.0    0.0  \n",
      "4           7.0    0.0  \n"
     ]
    }
   ],
   "source": [
    "data = pd.read_csv(file_path)  # Replace index_col=0 with appropr111iate index column if needed\n",
    "print(data.head())  # Display the first few rows of the dataframe\n"
   ]
  },
  {
   "cell_type": "code",
   "execution_count": 26,
   "metadata": {},
   "outputs": [
    {
     "data": {
      "text/html": [
       "<div>\n",
       "<style scoped>\n",
       "    .dataframe tbody tr th:only-of-type {\n",
       "        vertical-align: middle;\n",
       "    }\n",
       "\n",
       "    .dataframe tbody tr th {\n",
       "        vertical-align: top;\n",
       "    }\n",
       "\n",
       "    .dataframe thead th {\n",
       "        text-align: right;\n",
       "    }\n",
       "</style>\n",
       "<table border=\"1\" class=\"dataframe\">\n",
       "  <thead>\n",
       "    <tr style=\"text-align: right;\">\n",
       "      <th></th>\n",
       "      <th>upvotes</th>\n",
       "      <th>created_utc</th>\n",
       "      <th>num_comments</th>\n",
       "      <th>label</th>\n",
       "    </tr>\n",
       "  </thead>\n",
       "  <tbody>\n",
       "    <tr>\n",
       "      <th>count</th>\n",
       "      <td>494134.000000</td>\n",
       "      <td>4.941340e+05</td>\n",
       "      <td>471361.000000</td>\n",
       "      <td>494134.000000</td>\n",
       "    </tr>\n",
       "    <tr>\n",
       "      <th>mean</th>\n",
       "      <td>62.915592</td>\n",
       "      <td>1.566519e+09</td>\n",
       "      <td>15.343826</td>\n",
       "      <td>0.194445</td>\n",
       "    </tr>\n",
       "    <tr>\n",
       "      <th>std</th>\n",
       "      <td>945.298619</td>\n",
       "      <td>6.990924e+07</td>\n",
       "      <td>79.584086</td>\n",
       "      <td>0.395773</td>\n",
       "    </tr>\n",
       "    <tr>\n",
       "      <th>min</th>\n",
       "      <td>4.000000</td>\n",
       "      <td>1.201976e+09</td>\n",
       "      <td>1.000000</td>\n",
       "      <td>0.000000</td>\n",
       "    </tr>\n",
       "    <tr>\n",
       "      <th>25%</th>\n",
       "      <td>5.000000</td>\n",
       "      <td>1.552262e+09</td>\n",
       "      <td>4.000000</td>\n",
       "      <td>0.000000</td>\n",
       "    </tr>\n",
       "    <tr>\n",
       "      <th>50%</th>\n",
       "      <td>7.000000</td>\n",
       "      <td>1.578377e+09</td>\n",
       "      <td>7.000000</td>\n",
       "      <td>0.000000</td>\n",
       "    </tr>\n",
       "    <tr>\n",
       "      <th>75%</th>\n",
       "      <td>11.000000</td>\n",
       "      <td>1.611583e+09</td>\n",
       "      <td>14.000000</td>\n",
       "      <td>0.000000</td>\n",
       "    </tr>\n",
       "    <tr>\n",
       "      <th>max</th>\n",
       "      <td>82892.000000</td>\n",
       "      <td>1.672531e+09</td>\n",
       "      <td>19338.000000</td>\n",
       "      <td>1.000000</td>\n",
       "    </tr>\n",
       "  </tbody>\n",
       "</table>\n",
       "</div>"
      ],
      "text/plain": [
       "             upvotes   created_utc   num_comments          label\n",
       "count  494134.000000  4.941340e+05  471361.000000  494134.000000\n",
       "mean       62.915592  1.566519e+09      15.343826       0.194445\n",
       "std       945.298619  6.990924e+07      79.584086       0.395773\n",
       "min         4.000000  1.201976e+09       1.000000       0.000000\n",
       "25%         5.000000  1.552262e+09       4.000000       0.000000\n",
       "50%         7.000000  1.578377e+09       7.000000       0.000000\n",
       "75%        11.000000  1.611583e+09      14.000000       0.000000\n",
       "max     82892.000000  1.672531e+09   19338.000000       1.000000"
      ]
     },
     "execution_count": 26,
     "metadata": {},
     "output_type": "execute_result"
    }
   ],
   "source": [
    "#check the data describe \n",
    "data.describe()"
   ]
  },
  {
   "cell_type": "code",
   "execution_count": 27,
   "metadata": {},
   "outputs": [
    {
     "name": "stdout",
     "output_type": "stream",
     "text": [
      "<class 'pandas.core.frame.DataFrame'>\n",
      "RangeIndex: 494134 entries, 0 to 494133\n",
      "Data columns (total 7 columns):\n",
      " #   Column        Non-Null Count   Dtype  \n",
      "---  ------        --------------   -----  \n",
      " 0   subreddit     494134 non-null  object \n",
      " 1   title         494133 non-null  object \n",
      " 2   body          401975 non-null  object \n",
      " 3   upvotes       494134 non-null  float64\n",
      " 4   created_utc   494134 non-null  float64\n",
      " 5   num_comments  471361 non-null  float64\n",
      " 6   label         494134 non-null  float64\n",
      "dtypes: float64(4), object(3)\n",
      "memory usage: 26.4+ MB\n"
     ]
    }
   ],
   "source": [
    "data.info()"
   ]
  },
  {
   "cell_type": "code",
   "execution_count": 29,
   "metadata": {},
   "outputs": [
    {
     "data": {
      "text/plain": [
       "subreddit        0.000000\n",
       "title            0.000202\n",
       "body            18.650609\n",
       "upvotes          0.000000\n",
       "created_utc      0.000000\n",
       "num_comments     4.608669\n",
       "label            0.000000\n",
       "dtype: float64"
      ]
     },
     "execution_count": 29,
     "metadata": {},
     "output_type": "execute_result"
    }
   ],
   "source": [
    "#check to see if there are null values in percentage form\n",
    "data.isnull().sum() / len(data) * 100"
   ]
  }
 ],
 "metadata": {
  "kernelspec": {
   "display_name": "learn-env",
   "language": "python",
   "name": "python3"
  },
  "language_info": {
   "codemirror_mode": {
    "name": "ipython",
    "version": 3
   },
   "file_extension": ".py",
   "mimetype": "text/x-python",
   "name": "python",
   "nbconvert_exporter": "python",
   "pygments_lexer": "ipython3",
   "version": "3.8.5"
  }
 },
 "nbformat": 4,
 "nbformat_minor": 2
}
