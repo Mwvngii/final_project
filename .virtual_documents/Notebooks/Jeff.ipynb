


























import pandas as pd


df=pd.read_csv(r"C:\Users\user\Documents\final_project\Data\reduced_reddit.csv")


df.info()



