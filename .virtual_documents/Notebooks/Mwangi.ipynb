import pandas as pd


df = pd.read_csv("D:\\moringa_school\\CapStone\\final_project\\Data\\reduced_reddit.csv")
df


df.info()


df.columns



